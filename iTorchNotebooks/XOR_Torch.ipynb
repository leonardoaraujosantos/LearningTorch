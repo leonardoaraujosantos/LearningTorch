{
 "metadata": {
  "language": "lua",
  "name": "",
  "signature": "sha256:1c2ec95c3ba3756dc9e6e8c40f334959f1a072046f340fffc8f789cc2fa833c8"
 },
 "nbformat": 3,
 "nbformat_minor": 0,
 "worksheets": [
  {
   "cells": [
    {
     "cell_type": "code",
     "collapsed": false,
     "input": [
      "require 'torch';\n",
      "require 'nn';"
     ],
     "language": "python",
     "metadata": {},
     "outputs": [],
     "prompt_number": 94
    },
    {
     "cell_type": "code",
     "collapsed": false,
     "input": [
      "inputs=torch.Tensor({{0, 0}, {0,1}, {1,0}, {1,1}})\n",
      "outputs=torch.Tensor({{0},{1},{1},{0}})\n",
      "dataset={};\n",
      "dataset={ {torch.Tensor({0,0}),torch.Tensor({0})}, {torch.Tensor({0,1}),torch.Tensor({1})}, \n",
      "    {torch.Tensor({1,0}),torch.Tensor({1})} , {torch.Tensor({1,1}),torch.Tensor({0})}}\n",
      "\n",
      "-- Add a function to the object dataset\n",
      "function dataset:size() return 4 end"
     ],
     "language": "python",
     "metadata": {},
     "outputs": [],
     "prompt_number": 127
    },
    {
     "cell_type": "code",
     "collapsed": false,
     "input": [
      "mlp=nn.Sequential();  -- make a multi-layer perceptron\n",
      "inputs=2; outputs=1; HUs=20;\n",
      "mlp:add(nn.Linear(inputs,HUs))\n",
      "mlp:add(nn.Tanh())\n",
      "mlp:add(nn.Linear(HUs,outputs))"
     ],
     "language": "python",
     "metadata": {},
     "outputs": [],
     "prompt_number": 128
    },
    {
     "cell_type": "code",
     "collapsed": false,
     "input": [
      "criterion = nn.MSECriterion()  \n",
      "trainer = nn.StochasticGradient(mlp, criterion)\n",
      "trainer.learningRate = 0.1\n",
      "trainer:train(dataset);"
     ],
     "language": "python",
     "metadata": {},
     "outputs": [
      {
       "metadata": {},
       "output_type": "pyout",
       "prompt_number": 136,
       "text": [
        "# StochasticGradient: training\t\n"
       ]
      },
      {
       "metadata": {},
       "output_type": "pyout",
       "prompt_number": 136,
       "text": [
        "# current error = 7.5846555218205e-06\t\n"
       ]
      },
      {
       "metadata": {},
       "output_type": "pyout",
       "prompt_number": 136,
       "text": [
        "# current error = 7.2207123954872e-06\t\n",
        "# current error = 5.6323969168833e-06\t\n"
       ]
      },
      {
       "metadata": {},
       "output_type": "pyout",
       "prompt_number": 136,
       "text": [
        "# current error = 3.3875309142771e-06\t\n"
       ]
      },
      {
       "metadata": {},
       "output_type": "pyout",
       "prompt_number": 136,
       "text": [
        "# current error = 1.8729320917176e-06\t\n",
        "# current error = 9.9141809377106e-07\t\n"
       ]
      },
      {
       "metadata": {},
       "output_type": "pyout",
       "prompt_number": 136,
       "text": [
        "# current error = 5.1536304233755e-07\t\n",
        "# current error = 2.6567179134343e-07\t\n"
       ]
      },
      {
       "metadata": {},
       "output_type": "pyout",
       "prompt_number": 136,
       "text": [
        "# current error = 1.3641488787249e-07\t\n",
        "# current error = 6.9910801911937e-08\t\n"
       ]
      },
      {
       "metadata": {},
       "output_type": "pyout",
       "prompt_number": 136,
       "text": [
        "# current error = 3.5793412274548e-08\t\n",
        "# current error = 1.8316222100483e-08\t\n"
       ]
      },
      {
       "metadata": {},
       "output_type": "pyout",
       "prompt_number": 136,
       "text": [
        "# current error = 9.3700388455076e-09\t\n",
        "# current error = 4.7925996737997e-09\t\n"
       ]
      },
      {
       "metadata": {},
       "output_type": "pyout",
       "prompt_number": 136,
       "text": [
        "# current error = 2.4510580714111e-09\t\n",
        "# current error = 1.2534449541283e-09\t\n"
       ]
      },
      {
       "metadata": {},
       "output_type": "pyout",
       "prompt_number": 136,
       "text": [
        "# current error = 6.4096790584254e-10\t\n",
        "# current error = 3.2775788367883e-10\t\n"
       ]
      },
      {
       "metadata": {},
       "output_type": "pyout",
       "prompt_number": 136,
       "text": [
        "# current error = 1.6759465307075e-10\t\n",
        "# current error = 8.5695940352785e-11\t\n",
        "# current error = 4.381829177954e-11\t\n"
       ]
      },
      {
       "metadata": {},
       "output_type": "pyout",
       "prompt_number": 136,
       "text": [
        "# current error = 2.2405114134329e-11\t\n",
        "# current error = 1.1456089641065e-11\t\n",
        "# current error = 5.8576562331445e-12\t\n"
       ]
      },
      {
       "metadata": {},
       "output_type": "pyout",
       "prompt_number": 136,
       "text": [
        "# current error = 2.9950915253942e-12\t\n",
        "# StochasticGradient: you have reached the maximum number of iterations\t\n",
        "# training error = 2.9950915253942e-12\t\n"
       ]
      }
     ],
     "prompt_number": 136
    },
    {
     "cell_type": "code",
     "collapsed": false,
     "input": [
      "inputTest = torch.Tensor({{1,0}})\n",
      "result = mlp:forward(inputTest)\n",
      "print(result)"
     ],
     "language": "python",
     "metadata": {},
     "outputs": [
      {
       "metadata": {},
       "output_type": "pyout",
       "prompt_number": 137,
       "text": [
        " 1.0000\n",
        "[torch.DoubleTensor of size 1x1]\n",
        "\n"
       ]
      }
     ],
     "prompt_number": 137
    },
    {
     "cell_type": "code",
     "collapsed": false,
     "input": [
      "inputTest = torch.Tensor({{0,0}})\n",
      "result = mlp:forward(inputTest)\n",
      "print(result)"
     ],
     "language": "python",
     "metadata": {},
     "outputs": [
      {
       "metadata": {},
       "output_type": "pyout",
       "prompt_number": 138,
       "text": [
        "1e-07 *\n",
        "  7.7376\n",
        "[torch.DoubleTensor of size 1x1]\n",
        "\n"
       ]
      }
     ],
     "prompt_number": 138
    },
    {
     "cell_type": "code",
     "collapsed": false,
     "input": [],
     "language": "python",
     "metadata": {},
     "outputs": [
      {
       "metadata": {},
       "output_type": "pyout",
       "prompt_number": 132,
       "text": [
        "\n"
       ]
      }
     ],
     "prompt_number": 132
    },
    {
     "cell_type": "code",
     "collapsed": false,
     "input": [],
     "language": "python",
     "metadata": {},
     "outputs": []
    }
   ],
   "metadata": {}
  }
 ]
}