{
 "metadata": {
  "language": "lua",
  "name": "",
  "signature": "sha256:6ea5448b25b523ae7c10dccec0c970ee72e2382dd9b3b3d971142c0a67139746"
 },
 "nbformat": 3,
 "nbformat_minor": 0,
 "worksheets": [
  {
   "cells": [
    {
     "cell_type": "code",
     "collapsed": false,
     "input": [
      "require 'paths';\n",
      "require 'image';\n",
      "require 'nn';"
     ],
     "language": "python",
     "metadata": {},
     "outputs": [],
     "prompt_number": 1
    },
    {
     "cell_type": "code",
     "collapsed": false,
     "input": [
      "if (not paths.filep(\"cifar10torchsmall.zip\")) then\n",
      "    os.execute('wget -c https://s3.amazonaws.com/torch7/data/cifar10torchsmall.zip')\n",
      "    os.execute('unzip cifar10torchsmall.zip')\n",
      "end"
     ],
     "language": "python",
     "metadata": {},
     "outputs": [
      {
       "metadata": {},
       "output_type": "pyout",
       "prompt_number": 2,
       "text": [
        "Archive:  cifar10torchsmall.zip\n",
        "  inflating: cifar10-test.t7         "
       ]
      },
      {
       "metadata": {},
       "output_type": "pyout",
       "prompt_number": 2,
       "text": [
        "\n",
        "  inflating: cifar10-train.t7        "
       ]
      },
      {
       "metadata": {},
       "output_type": "pyout",
       "prompt_number": 2,
       "text": [
        "\n"
       ]
      }
     ],
     "prompt_number": 2
    },
    {
     "cell_type": "code",
     "collapsed": false,
     "input": [
      "trainset = torch.load('cifar10-train.t7')\n",
      "testset = torch.load('cifar10-test.t7')\n",
      "classes = {'airplane', 'automobile', 'bird', 'cat',\n",
      "           'deer', 'dog', 'frog', 'horse', 'ship', 'truck'}"
     ],
     "language": "python",
     "metadata": {},
     "outputs": [],
     "prompt_number": 3
    },
    {
     "cell_type": "code",
     "collapsed": false,
     "input": [
      "print(trainset)\n",
      "print(#trainset.data)"
     ],
     "language": "python",
     "metadata": {},
     "outputs": [
      {
       "metadata": {},
       "output_type": "pyout",
       "prompt_number": 4,
       "text": [
        "{\n",
        "  data : ByteTensor - size: 10000x3x32x32\n",
        "  label : ByteTensor - size: 10000\n",
        "}\n",
        " 10000\n",
        "     3\n",
        "    32\n",
        "    32\n",
        "[torch.LongStorage of size 4]\n",
        "\n"
       ]
      }
     ],
     "prompt_number": 4
    },
    {
     "cell_type": "code",
     "collapsed": false,
     "input": [
      "itorch.image(trainset.data[100]) -- display the 100-th image in dataset\n",
      "print(classes[trainset.label[100]])"
     ],
     "language": "python",
     "metadata": {},
     "outputs": [
      {
       "metadata": {
        "png": {
         "height": 32,
         "width": 32
        }
       },
       "output_type": "display_data",
       "png": "[encoded data removed]",
       "text": [
        "Console does not support images"
       ]
      },
      {
       "metadata": {},
       "output_type": "pyout",
       "prompt_number": 5,
       "text": [
        "automobile\t\n"
       ]
      }
     ],
     "prompt_number": 5
    },
    {
     "cell_type": "code",
     "collapsed": false,
     "input": [
      "-- quads/rectangles\n",
      "x1=torch.randn(10)\n",
      "y1=torch.randn(10)\n",
      "plot = Plot():quad(x1,y1,x1+1,y1+1,'red',''):draw()"
     ],
     "language": "python",
     "metadata": {},
     "outputs": [
      {
       "ename": "[string \"-- quads/rectangles...\"]:4: attempt to call global 'Plot' (a nil value)\nstack traceback:\n\t[string \"-- quads/rectangles...\"]:4: in main chunk\n\t[C]: in function 'xpcall'\n\t/home/leo/torch/install/share/lua/5.1/itorch/main.lua:209: in function </home/leo/torch/install/share/lua/5.1/itorch/main.lua:173>\n\t/home/leo/torch/install/share/lua/5.1/lzmq/poller.lua:75: in function 'poll'\n\t/home/leo/torch/install/share/lua/5.1/lzmq/impl/loop.lua:307: in function 'poll'\n\t/home/leo/torch/install/share/lua/5.1/lzmq/impl/loop.lua:325: in function 'sleep_ex'\n\t/home/leo/torch/install/share/lua/5.1/lzmq/impl/loop.lua:370: in function 'start'\n\t/home/leo/torch/install/share/lua/5.1/itorch/main.lua:381: in main chunk\n\t[C]: in function 'require'\n\t(command line):1: in main chunk\n\t[C]: at 0x00406670",
       "evalue": "",
       "output_type": "pyerr",
       "traceback": [
        "[string \"-- quads/rectangles...\"]:4: attempt to call global 'Plot' (a nil value)\nstack traceback:\n\t[string \"-- quads/rectangles...\"]:4: in main chunk\n\t[C]: in function 'xpcall'\n\t/home/leo/torch/install/share/lua/5.1/itorch/main.lua:209: in function </home/leo/torch/install/share/lua/5.1/itorch/main.lua:173>\n\t/home/leo/torch/install/share/lua/5.1/lzmq/poller.lua:75: in function 'poll'\n\t/home/leo/torch/install/share/lua/5.1/lzmq/impl/loop.lua:307: in function 'poll'\n\t/home/leo/torch/install/share/lua/5.1/lzmq/impl/loop.lua:325: in function 'sleep_ex'\n\t/home/leo/torch/install/share/lua/5.1/lzmq/impl/loop.lua:370: in function 'start'\n\t/home/leo/torch/install/share/lua/5.1/itorch/main.lua:381: in main chunk\n\t[C]: in function 'require'\n\t(command line):1: in main chunk\n\t[C]: at 0x00406670"
       ]
      }
     ],
     "prompt_number": 6
    },
    {
     "cell_type": "code",
     "collapsed": false,
     "input": [],
     "language": "python",
     "metadata": {},
     "outputs": []
    }
   ],
   "metadata": {}
  }
 ]
}